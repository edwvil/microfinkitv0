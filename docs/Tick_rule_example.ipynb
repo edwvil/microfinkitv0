{
 "cells": [
  {
   "cell_type": "markdown",
   "metadata": {},
   "source": [
    "# Tic rule example\n",
    "\n",
    "Lopez de Prado proposes in his book \"Advances in Financial Machine Learning\" one way to give the sign label to ticks transactions as first step to infer how information arrives to the markets.  \n",
    "\n",
    "$b_{t} = \\frac{\\left | \\Delta p_{t} \\right |}{\\Delta p_{t}}\\$,\n",
    "\n",
    "if $p_{t} \\neq 0$.  \n",
    "\n",
    "Otherwise $b_{t} = b_{t-1}$\n",
    "\n",
    "By construction, the first b<sub>t</sub> is b<sub>t+1</sub>.\n",
    "\n",
    "The data used in this note book was get from:\n",
    "\n",
    "https://quotes.hegnar.no/quotes/paperdump.php?paper=JPM.N.  \n",
    "\n",
    "Handler 04/03-2019 *\n",
    "\n",
    "Downloaded data on March 5, 2019.   The data was used here is only for teaching purposes, note only is showing data fragments, and the csv file is not posted to the public, in order to protect copyrights owner.\n",
    "\n",
    "**COPYRIGHT DISCLAIMER UNDER SECTION 107 OF THE COPYRIGHT ACT 1976 Copyright Dislcaimer Under Section 107 of the Copyright Act 1976, allowance is made for “fair use” for purposes such as criticism, comment, news reporting, teaching, scholarship, and research. Fair use is a use permitted by copyright statue that might otherwise be infringing. Non-profit, educational, or personal use tips the balance in favor of fair use.**\n"
   ]
  },
  {
   "cell_type": "code",
   "execution_count": 1,
   "metadata": {},
   "outputs": [],
   "source": [
    "import pandas as pd\n",
    "import numpy as np\n",
    "import matplotlib\n",
    "import matplotlib.pyplot as plt\n",
    "import microfinkitv_0_2 as mf\n",
    "import seaborn as sns\n",
    "%matplotlib inline\n",
    "pd.set_option('display.float_format', lambda x: '%.2f' % x)"
   ]
  },
  {
   "cell_type": "code",
   "execution_count": 3,
   "metadata": {},
   "outputs": [],
   "source": [
    "df = pd.read_csv('20190304JPMT.csv')"
   ]
  },
  {
   "cell_type": "code",
   "execution_count": 4,
   "metadata": {},
   "outputs": [
    {
     "data": {
      "text/html": [
       "<div>\n",
       "<style scoped>\n",
       "    .dataframe tbody tr th:only-of-type {\n",
       "        vertical-align: middle;\n",
       "    }\n",
       "\n",
       "    .dataframe tbody tr th {\n",
       "        vertical-align: top;\n",
       "    }\n",
       "\n",
       "    .dataframe thead th {\n",
       "        text-align: right;\n",
       "    }\n",
       "</style>\n",
       "<table border=\"1\" class=\"dataframe\">\n",
       "  <thead>\n",
       "    <tr style=\"text-align: right;\">\n",
       "      <th></th>\n",
       "      <th>time</th>\n",
       "      <th>price</th>\n",
       "      <th>quantity</th>\n",
       "      <th>source</th>\n",
       "      <th>buyer</th>\n",
       "      <th>seller</th>\n",
       "      <th>initiator</th>\n",
       "    </tr>\n",
       "  </thead>\n",
       "  <tbody>\n",
       "    <tr>\n",
       "      <th>0</th>\n",
       "      <td>2019-03-04 15:30:00</td>\n",
       "      <td>104.92</td>\n",
       "      <td>100</td>\n",
       "      <td>Auto trade</td>\n",
       "      <td>nan</td>\n",
       "      <td>nan</td>\n",
       "      <td>nan</td>\n",
       "    </tr>\n",
       "    <tr>\n",
       "      <th>1</th>\n",
       "      <td>2019-03-04 15:30:00</td>\n",
       "      <td>104.93</td>\n",
       "      <td>100</td>\n",
       "      <td>Auto trade</td>\n",
       "      <td>nan</td>\n",
       "      <td>nan</td>\n",
       "      <td>nan</td>\n",
       "    </tr>\n",
       "    <tr>\n",
       "      <th>2</th>\n",
       "      <td>2019-03-04 15:30:00</td>\n",
       "      <td>104.95</td>\n",
       "      <td>300</td>\n",
       "      <td>Auto trade</td>\n",
       "      <td>nan</td>\n",
       "      <td>nan</td>\n",
       "      <td>nan</td>\n",
       "    </tr>\n",
       "    <tr>\n",
       "      <th>3</th>\n",
       "      <td>2019-03-04 15:30:03</td>\n",
       "      <td>104.85</td>\n",
       "      <td>153119</td>\n",
       "      <td>Auto trade</td>\n",
       "      <td>nan</td>\n",
       "      <td>nan</td>\n",
       "      <td>nan</td>\n",
       "    </tr>\n",
       "    <tr>\n",
       "      <th>4</th>\n",
       "      <td>2019-03-04 15:30:03</td>\n",
       "      <td>104.93</td>\n",
       "      <td>100</td>\n",
       "      <td>Auto trade</td>\n",
       "      <td>nan</td>\n",
       "      <td>nan</td>\n",
       "      <td>nan</td>\n",
       "    </tr>\n",
       "  </tbody>\n",
       "</table>\n",
       "</div>"
      ],
      "text/plain": [
       "                 time  price  quantity      source  buyer  seller  initiator\n",
       "0 2019-03-04 15:30:00 104.92       100  Auto trade    nan     nan        nan\n",
       "1 2019-03-04 15:30:00 104.93       100  Auto trade    nan     nan        nan\n",
       "2 2019-03-04 15:30:00 104.95       300  Auto trade    nan     nan        nan\n",
       "3 2019-03-04 15:30:03 104.85    153119  Auto trade    nan     nan        nan\n",
       "4 2019-03-04 15:30:03 104.93       100  Auto trade    nan     nan        nan"
      ]
     },
     "execution_count": 4,
     "metadata": {},
     "output_type": "execute_result"
    }
   ],
   "source": [
    "# Transform time stamp\n",
    "df['time']=df.time.str.replace(\"T\", \"\")\n",
    "df[\"time\"] = pd.to_datetime(df[\"time\"])\n",
    "df.head()"
   ]
  },
  {
   "cell_type": "code",
   "execution_count": 5,
   "metadata": {},
   "outputs": [],
   "source": [
    "# Copy the data frame time , price  and quantity columns\n",
    "dfp = df[['time','price','quantity']].copy()"
   ]
  },
  {
   "cell_type": "code",
   "execution_count": 6,
   "metadata": {},
   "outputs": [
    {
     "data": {
      "text/html": [
       "<div>\n",
       "<style scoped>\n",
       "    .dataframe tbody tr th:only-of-type {\n",
       "        vertical-align: middle;\n",
       "    }\n",
       "\n",
       "    .dataframe tbody tr th {\n",
       "        vertical-align: top;\n",
       "    }\n",
       "\n",
       "    .dataframe thead th {\n",
       "        text-align: right;\n",
       "    }\n",
       "</style>\n",
       "<table border=\"1\" class=\"dataframe\">\n",
       "  <thead>\n",
       "    <tr style=\"text-align: right;\">\n",
       "      <th></th>\n",
       "      <th>time</th>\n",
       "      <th>price</th>\n",
       "      <th>quantity</th>\n",
       "    </tr>\n",
       "  </thead>\n",
       "  <tbody>\n",
       "    <tr>\n",
       "      <th>0</th>\n",
       "      <td>2019-03-04 15:30:00</td>\n",
       "      <td>104.92</td>\n",
       "      <td>100</td>\n",
       "    </tr>\n",
       "    <tr>\n",
       "      <th>1</th>\n",
       "      <td>2019-03-04 15:30:00</td>\n",
       "      <td>104.93</td>\n",
       "      <td>100</td>\n",
       "    </tr>\n",
       "    <tr>\n",
       "      <th>2</th>\n",
       "      <td>2019-03-04 15:30:00</td>\n",
       "      <td>104.95</td>\n",
       "      <td>300</td>\n",
       "    </tr>\n",
       "    <tr>\n",
       "      <th>3</th>\n",
       "      <td>2019-03-04 15:30:03</td>\n",
       "      <td>104.85</td>\n",
       "      <td>153119</td>\n",
       "    </tr>\n",
       "    <tr>\n",
       "      <th>4</th>\n",
       "      <td>2019-03-04 15:30:03</td>\n",
       "      <td>104.93</td>\n",
       "      <td>100</td>\n",
       "    </tr>\n",
       "  </tbody>\n",
       "</table>\n",
       "</div>"
      ],
      "text/plain": [
       "                 time  price  quantity\n",
       "0 2019-03-04 15:30:00 104.92       100\n",
       "1 2019-03-04 15:30:00 104.93       100\n",
       "2 2019-03-04 15:30:00 104.95       300\n",
       "3 2019-03-04 15:30:03 104.85    153119\n",
       "4 2019-03-04 15:30:03 104.93       100"
      ]
     },
     "execution_count": 6,
     "metadata": {},
     "output_type": "execute_result"
    }
   ],
   "source": [
    "dfp.head()"
   ]
  },
  {
   "cell_type": "markdown",
   "metadata": {},
   "source": [
    "# Tick rule\n",
    "\n",
    "Tick ule it's a rule designed to give a sign to a transaction tick, according to the difference of the same with the previous tick. \n",
    "\n",
    "Basically, calculate the difference in absolute value between the price of the tick at time t and the price at time t-1, divided by the same difference, but this time taking into account its sign. The result is a value of -1, 0 or 1. When the value obtained is 0, it is assumed that the sign is the same as time t -1"
   ]
  },
  {
   "cell_type": "code",
   "execution_count": 8,
   "metadata": {},
   "outputs": [],
   "source": [
    "dfp['b_t'] = mf.tick_rule(dfp,'price')"
   ]
  },
  {
   "cell_type": "code",
   "execution_count": 10,
   "metadata": {},
   "outputs": [
    {
     "data": {
      "text/html": [
       "<div>\n",
       "<style scoped>\n",
       "    .dataframe tbody tr th:only-of-type {\n",
       "        vertical-align: middle;\n",
       "    }\n",
       "\n",
       "    .dataframe tbody tr th {\n",
       "        vertical-align: top;\n",
       "    }\n",
       "\n",
       "    .dataframe thead th {\n",
       "        text-align: right;\n",
       "    }\n",
       "</style>\n",
       "<table border=\"1\" class=\"dataframe\">\n",
       "  <thead>\n",
       "    <tr style=\"text-align: right;\">\n",
       "      <th></th>\n",
       "      <th>time</th>\n",
       "      <th>price</th>\n",
       "      <th>quantity</th>\n",
       "      <th>b_t</th>\n",
       "    </tr>\n",
       "  </thead>\n",
       "  <tbody>\n",
       "    <tr>\n",
       "      <th>0</th>\n",
       "      <td>2019-03-04 15:30:00</td>\n",
       "      <td>104.92</td>\n",
       "      <td>100</td>\n",
       "      <td>1.00</td>\n",
       "    </tr>\n",
       "    <tr>\n",
       "      <th>1</th>\n",
       "      <td>2019-03-04 15:30:00</td>\n",
       "      <td>104.93</td>\n",
       "      <td>100</td>\n",
       "      <td>1.00</td>\n",
       "    </tr>\n",
       "    <tr>\n",
       "      <th>2</th>\n",
       "      <td>2019-03-04 15:30:00</td>\n",
       "      <td>104.95</td>\n",
       "      <td>300</td>\n",
       "      <td>1.00</td>\n",
       "    </tr>\n",
       "    <tr>\n",
       "      <th>3</th>\n",
       "      <td>2019-03-04 15:30:03</td>\n",
       "      <td>104.85</td>\n",
       "      <td>153119</td>\n",
       "      <td>-1.00</td>\n",
       "    </tr>\n",
       "    <tr>\n",
       "      <th>4</th>\n",
       "      <td>2019-03-04 15:30:03</td>\n",
       "      <td>104.93</td>\n",
       "      <td>100</td>\n",
       "      <td>1.00</td>\n",
       "    </tr>\n",
       "  </tbody>\n",
       "</table>\n",
       "</div>"
      ],
      "text/plain": [
       "                 time  price  quantity   b_t\n",
       "0 2019-03-04 15:30:00 104.92       100  1.00\n",
       "1 2019-03-04 15:30:00 104.93       100  1.00\n",
       "2 2019-03-04 15:30:00 104.95       300  1.00\n",
       "3 2019-03-04 15:30:03 104.85    153119 -1.00\n",
       "4 2019-03-04 15:30:03 104.93       100  1.00"
      ]
     },
     "execution_count": 10,
     "metadata": {},
     "output_type": "execute_result"
    }
   ],
   "source": [
    "dfp.head()"
   ]
  },
  {
   "cell_type": "markdown",
   "metadata": {},
   "source": [
    "As you can see, the first two values have the same sign, that is, because of the ease in formulating the function to apply at the beginning of the series, the sign in t takes the later value in the series (t + 1) , and not the previous value that in this case does not exist."
   ]
  },
  {
   "cell_type": "code",
   "execution_count": 9,
   "metadata": {},
   "outputs": [
    {
     "data": {
      "text/plain": [
       "0    1.00\n",
       "1    1.00\n",
       "2    1.00\n",
       "3   -1.00\n",
       "4    1.00\n",
       "5   -1.00\n",
       "6    1.00\n",
       "7   -1.00\n",
       "8    1.00\n",
       "9    1.00\n",
       "Name: b_t, dtype: float64"
      ]
     },
     "execution_count": 9,
     "metadata": {},
     "output_type": "execute_result"
    }
   ],
   "source": [
    "dfp['b_t'].head(10)"
   ]
  },
  {
   "cell_type": "code",
   "execution_count": null,
   "metadata": {},
   "outputs": [],
   "source": []
  }
 ],
 "metadata": {
  "kernelspec": {
   "display_name": "Python 3",
   "language": "python",
   "name": "python3"
  },
  "language_info": {
   "codemirror_mode": {
    "name": "ipython",
    "version": 3
   },
   "file_extension": ".py",
   "mimetype": "text/x-python",
   "name": "python",
   "nbconvert_exporter": "python",
   "pygments_lexer": "ipython3",
   "version": "3.7.1"
  }
 },
 "nbformat": 4,
 "nbformat_minor": 2
}
